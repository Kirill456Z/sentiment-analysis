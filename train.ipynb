{
 "cells": [
  {
   "cell_type": "code",
   "execution_count": 14,
   "id": "9f48b3dc",
   "metadata": {
    "ExecuteTime": {
     "end_time": "2022-03-29T14:31:32.488671Z",
     "start_time": "2022-03-29T14:31:32.433959Z"
    }
   },
   "outputs": [],
   "source": [
    "import pandas as pd\n",
    "\n",
    "df = pd.read_csv(\"datasets/human_classified_sn.csv\")\n",
    "\n",
    "df['pos'] = df.pos - 1\n",
    "df['neg'] = df.neg - 1\n",
    "df['target'] = df.pos / (df.pos + df.neg)\n",
    "df = df[['text', 'target']]\n",
    "df['target'] = np.where(df.target > 0.5, 1, 0)"
   ]
  },
  {
   "cell_type": "code",
   "execution_count": 15,
   "id": "556eca3c",
   "metadata": {
    "ExecuteTime": {
     "end_time": "2022-03-29T14:31:32.874333Z",
     "start_time": "2022-03-29T14:31:32.864145Z"
    }
   },
   "outputs": [],
   "source": [
    "from sklearn.model_selection import train_test_split\n",
    "\n",
    "train, validation = train_test_split(df)\n",
    "X_train, Y_train = train.text, train.target\n",
    "X_validation, Y_validation = validation.text, validation.target"
   ]
  },
  {
   "cell_type": "code",
   "execution_count": 19,
   "id": "b0c6ebf5",
   "metadata": {
    "ExecuteTime": {
     "end_time": "2022-03-29T14:37:32.345261Z",
     "start_time": "2022-03-29T14:37:17.967552Z"
    }
   },
   "outputs": [
    {
     "name": "stdout",
     "output_type": "stream",
     "text": [
      "(count + logistic) score is 0.8167823892449784\n",
      "(count + svm) score is 0.7903339318123661\n",
      "(count + sgd) score is 0.7949736301753678\n",
      "(tfidf + logistic) score is 0.8299357598910738\n",
      "(tfidf + svm) score is 0.8204873723870802\n",
      "(tfidf + sgd) score is 0.8209426740584981\n"
     ]
    }
   ],
   "source": [
    "from sklearn.pipeline import Pipeline\n",
    "from sklearn.feature_extraction.text import CountVectorizer, TfidfVectorizer\n",
    "from sklearn.linear_model import LogisticRegression, SGDClassifier\n",
    "from sklearn.model_selection import cross_val_score\n",
    "from sklearn.svm import LinearSVC\n",
    "\n",
    "vectorizers = {\"count\" : CountVectorizer(), \"tfidf\" : TfidfVectorizer()}\n",
    "models = {\"logistic\" : LogisticRegression(max_iter = 1000), \"svm\" : LinearSVC(), \"sgd\" : SGDClassifier()}\n",
    "\n",
    "for vect_name, vect in vectorizers.items():\n",
    "    for model_name, model in models.items():\n",
    "        pipe = Pipeline([('vectorizer', vect), ('model', model)])\n",
    "        cv_score = cross_val_score(pipe, X_train, Y_train, scoring='roc_auc')\n",
    "        print(\"({} + {}) score is {}\".format(vect_name, model_name, cv_score.mean()))"
   ]
  },
  {
   "cell_type": "code",
   "execution_count": 21,
   "id": "828e37cc",
   "metadata": {
    "ExecuteTime": {
     "end_time": "2022-03-29T14:39:44.521708Z",
     "start_time": "2022-03-29T14:39:18.761074Z"
    }
   },
   "outputs": [
    {
     "data": {
      "text/plain": [
       "2.782559402207126"
      ]
     },
     "execution_count": 21,
     "metadata": {},
     "output_type": "execute_result"
    }
   ],
   "source": [
    "from sklearn.linear_model import LogisticRegressionCV\n",
    "\n",
    "cv_selection = Pipeline([('vectorizer', TfidfVectorizer()), ('model', LogisticRegressionCV(max_iter = 1000, scoring='roc_auc'))])\n",
    "cv_selection.fit(X_train, Y_train)\n",
    "model = cv_selection.named_steps['model']\n",
    "best_C = model.C_[0]\n",
    "best_C"
   ]
  },
  {
   "cell_type": "code",
   "execution_count": 29,
   "id": "84f9b74f",
   "metadata": {
    "ExecuteTime": {
     "end_time": "2022-03-29T14:43:48.092664Z",
     "start_time": "2022-03-29T14:43:47.518614Z"
    }
   },
   "outputs": [
    {
     "name": "stdout",
     "output_type": "stream",
     "text": [
      "0.8307653339568233\n"
     ]
    }
   ],
   "source": [
    "from sklearn.metrics import roc_auc_score\n",
    "\n",
    "pipe = Pipeline([('vectorizer', TfidfVectorizer()), ('model', LogisticRegression(max_iter = 10000, C=best_C))])\n",
    "pipe.fit(X_train, Y_train)\n",
    "print(roc_auc_score(Y_validation, pipe.predict_proba(X_validation)[:,1]))"
   ]
  },
  {
   "cell_type": "code",
   "execution_count": 32,
   "id": "1fc064c9",
   "metadata": {
    "ExecuteTime": {
     "end_time": "2022-03-29T14:46:47.089136Z",
     "start_time": "2022-03-29T14:46:47.063583Z"
    }
   },
   "outputs": [],
   "source": [
    "from pickle import dump\n",
    "with open(\"model.pkl\", 'wb') as file:\n",
    "    dump(pipe, file)"
   ]
  },
  {
   "cell_type": "code",
   "execution_count": 34,
   "id": "6e346a06",
   "metadata": {
    "ExecuteTime": {
     "end_time": "2022-03-29T14:47:35.851676Z",
     "start_time": "2022-03-29T14:47:35.839048Z"
    }
   },
   "outputs": [
    {
     "data": {
      "text/plain": [
       "array([[0.07768561, 0.92231439]])"
      ]
     },
     "execution_count": 34,
     "metadata": {},
     "output_type": "execute_result"
    }
   ],
   "source": [
    "pipe.predict_proba([\"Hi awesome product\"])"
   ]
  },
  {
   "cell_type": "code",
   "execution_count": null,
   "id": "bcb221f7",
   "metadata": {},
   "outputs": [],
   "source": []
  }
 ],
 "metadata": {
  "kernelspec": {
   "display_name": "Python [conda env:introduction_to_da] *",
   "language": "python",
   "name": "conda-env-introduction_to_da-py"
  },
  "language_info": {
   "codemirror_mode": {
    "name": "ipython",
    "version": 3
   },
   "file_extension": ".py",
   "mimetype": "text/x-python",
   "name": "python",
   "nbconvert_exporter": "python",
   "pygments_lexer": "ipython3",
   "version": "3.9.7"
  },
  "varInspector": {
   "cols": {
    "lenName": 16,
    "lenType": 16,
    "lenVar": 40
   },
   "kernels_config": {
    "python": {
     "delete_cmd_postfix": "",
     "delete_cmd_prefix": "del ",
     "library": "var_list.py",
     "varRefreshCmd": "print(var_dic_list())"
    },
    "r": {
     "delete_cmd_postfix": ") ",
     "delete_cmd_prefix": "rm(",
     "library": "var_list.r",
     "varRefreshCmd": "cat(var_dic_list()) "
    }
   },
   "types_to_exclude": [
    "module",
    "function",
    "builtin_function_or_method",
    "instance",
    "_Feature"
   ],
   "window_display": false
  }
 },
 "nbformat": 4,
 "nbformat_minor": 5
}
