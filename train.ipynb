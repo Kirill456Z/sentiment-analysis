{
 "cells": [
  {
   "cell_type": "markdown",
   "id": "90926123",
   "metadata": {},
   "source": [
    "Для обучения используется датасет комментариев из соцсетей, размеченных людьми  \n",
    "http://sentistrength.wlv.ac.uk/documentation/"
   ]
  },
  {
   "cell_type": "code",
   "execution_count": 88,
   "id": "6b6e8b44",
   "metadata": {
    "ExecuteTime": {
     "end_time": "2022-03-29T17:25:23.476322Z",
     "start_time": "2022-03-29T17:25:23.447536Z"
    }
   },
   "outputs": [],
   "source": [
    "import pandas as pd\n",
    "\n",
    "df = pd.read_csv(\"datasets/human_classified_sn.csv\", usecols=['text','target'] )"
   ]
  },
  {
   "cell_type": "code",
   "execution_count": 89,
   "id": "556eca3c",
   "metadata": {
    "ExecuteTime": {
     "end_time": "2022-03-29T17:25:23.490620Z",
     "start_time": "2022-03-29T17:25:23.478978Z"
    }
   },
   "outputs": [],
   "source": [
    "from sklearn.model_selection import train_test_split\n",
    "\n",
    "train, validation = train_test_split(df, train_size = 0.85)\n",
    "X_train, Y_train = train.text, train.target\n",
    "X_validation, Y_validation = validation.text, validation.target"
   ]
  },
  {
   "cell_type": "markdown",
   "id": "26bcdb05",
   "metadata": {
    "ExecuteTime": {
     "end_time": "2022-03-29T17:01:02.534642Z",
     "start_time": "2022-03-29T17:01:02.526727Z"
    }
   },
   "source": [
    "На обучающей выборке с помощбю кросс-валидации подберем пару преобразователь-модель, дающую лучшее качество auc_roc (данная метрика не зависит от выбора разделяющей границы, что может быть полезно в случае не сбалансированных классов)"
   ]
  },
  {
   "cell_type": "code",
   "execution_count": 90,
   "id": "b0c6ebf5",
   "metadata": {
    "ExecuteTime": {
     "end_time": "2022-03-29T17:25:43.088084Z",
     "start_time": "2022-03-29T17:25:23.494247Z"
    }
   },
   "outputs": [
    {
     "name": "stdout",
     "output_type": "stream",
     "text": [
      "(count + logistic) score is 0.8194516295366461\n",
      "(count + svm) score is 0.7968196457326892\n",
      "(count + knn) score is 0.7105755047527271\n",
      "(tfidf + logistic) score is 0.8326331038330353\n",
      "(tfidf + svm) score is 0.8253935951242811\n",
      "(tfidf + knn) score is 0.7610982202103964\n"
     ]
    }
   ],
   "source": [
    "from sklearn.pipeline import Pipeline\n",
    "from sklearn.feature_extraction.text import CountVectorizer, TfidfVectorizer\n",
    "from sklearn.linear_model import LogisticRegression, SGDClassifier\n",
    "from sklearn.model_selection import cross_val_score\n",
    "from sklearn.neighbors import KNeighborsClassifier\n",
    "from sklearn.svm import LinearSVC\n",
    "\n",
    "vectorizers = {\"count\" : CountVectorizer(), \"tfidf\" : TfidfVectorizer()}\n",
    "models = {\"logistic\" : LogisticRegression(max_iter = 10000), \"svm\" : LinearSVC(max_iter=10000),'knn' : KNeighborsClassifier(metric='cosine') }\n",
    "\n",
    "for vect_name, vect in vectorizers.items():\n",
    "    for model_name, model in models.items():\n",
    "        pipe = Pipeline([('vectorizer', vect), ('model', model)])\n",
    "        cv_score = cross_val_score(pipe, X_train, Y_train, scoring='roc_auc')\n",
    "        print(\"({} + {}) score is {}\".format(vect_name, model_name, cv_score.mean()))"
   ]
  },
  {
   "cell_type": "markdown",
   "id": "5a759d8a",
   "metadata": {
    "ExecuteTime": {
     "end_time": "2022-03-29T17:04:17.035071Z",
     "start_time": "2022-03-29T17:04:17.027956Z"
    }
   },
   "source": [
    "Лучшее качество дает TfIdf векторизатор и логистическая регрессия. Дальше будем подбирать гиперпараметры. Подберем коэффициент регуляризации для регрессии"
   ]
  },
  {
   "cell_type": "code",
   "execution_count": 91,
   "id": "828e37cc",
   "metadata": {
    "ExecuteTime": {
     "end_time": "2022-03-29T17:26:13.496269Z",
     "start_time": "2022-03-29T17:25:43.090370Z"
    }
   },
   "outputs": [
    {
     "data": {
      "text/plain": [
       "2.782559402207126"
      ]
     },
     "execution_count": 91,
     "metadata": {},
     "output_type": "execute_result"
    }
   ],
   "source": [
    "from sklearn.linear_model import LogisticRegressionCV\n",
    "\n",
    "cv_selection = Pipeline([('vectorizer', TfidfVectorizer()), ('model', LogisticRegressionCV(max_iter = 1000, scoring='roc_auc'))])\n",
    "cv_selection.fit(X_train, Y_train)\n",
    "model = cv_selection.named_steps['model']\n",
    "best_C = model.C_[0]\n",
    "best_C"
   ]
  },
  {
   "cell_type": "markdown",
   "id": "723dbff4",
   "metadata": {
    "ExecuteTime": {
     "end_time": "2022-03-29T17:04:48.343890Z",
     "start_time": "2022-03-29T17:04:48.337776Z"
    }
   },
   "source": [
    "Посчитаем качество на валидации для оптимального C"
   ]
  },
  {
   "cell_type": "code",
   "execution_count": 92,
   "id": "84f9b74f",
   "metadata": {
    "ExecuteTime": {
     "end_time": "2022-03-29T17:26:14.152348Z",
     "start_time": "2022-03-29T17:26:13.498112Z"
    }
   },
   "outputs": [
    {
     "name": "stdout",
     "output_type": "stream",
     "text": [
      "0.8371379112301109\n"
     ]
    }
   ],
   "source": [
    "from sklearn.metrics import roc_auc_score\n",
    "\n",
    "pipe = Pipeline([('vectorizer', TfidfVectorizer()), ('model', LogisticRegression(max_iter = 10000, C=best_C))])\n",
    "pipe.fit(X_train, Y_train)\n",
    "print(roc_auc_score(Y_validation, pipe.predict_proba(X_validation)[:,1]))"
   ]
  },
  {
   "cell_type": "markdown",
   "id": "befb34b3",
   "metadata": {
    "ExecuteTime": {
     "end_time": "2022-03-29T17:06:03.997194Z",
     "start_time": "2022-03-29T17:06:03.993013Z"
    }
   },
   "source": [
    "Теперь по валидационной выборке будем подбирать преобразования текста.\n",
    "Попробуем удалить из текста стоп-слова:"
   ]
  },
  {
   "cell_type": "code",
   "execution_count": 93,
   "id": "24c7b8e8",
   "metadata": {
    "ExecuteTime": {
     "end_time": "2022-03-29T17:26:14.782326Z",
     "start_time": "2022-03-29T17:26:14.154098Z"
    }
   },
   "outputs": [
    {
     "name": "stdout",
     "output_type": "stream",
     "text": [
      "0.8233999067056021\n"
     ]
    }
   ],
   "source": [
    "from sklearn.metrics import roc_auc_score\n",
    "from nltk.corpus import stopwords\n",
    "\n",
    "pipe = Pipeline([('vectorizer', TfidfVectorizer(stop_words = stopwords.words(\"english\"))), ('model', LogisticRegression(max_iter = 10000, C=best_C))])\n",
    "pipe.fit(X_train, Y_train)\n",
    "print(roc_auc_score(Y_validation, pipe.predict_proba(X_validation)[:,1]))"
   ]
  },
  {
   "cell_type": "markdown",
   "id": "b353e957",
   "metadata": {},
   "source": [
    "Попробуем приводить слова к начальной форме"
   ]
  },
  {
   "cell_type": "code",
   "execution_count": 94,
   "id": "aa7403a3",
   "metadata": {
    "ExecuteTime": {
     "end_time": "2022-03-29T17:26:15.691203Z",
     "start_time": "2022-03-29T17:26:14.785029Z"
    }
   },
   "outputs": [
    {
     "name": "stdout",
     "output_type": "stream",
     "text": [
      "0.8365521248742818\n"
     ]
    }
   ],
   "source": [
    "from nltk.stem.snowball import SnowballStemmer\n",
    "\n",
    "stemmer = SnowballStemmer(\"english\")\n",
    "def stem(data):\n",
    "    return data.apply(lambda x : stemmer.stem(x))\n",
    "\n",
    "pipe = Pipeline([('vectorizer', TfidfVectorizer()), ('model', LogisticRegression(max_iter = 10000, C=best_C))])\n",
    "pipe.fit(stem(X_train), Y_train)\n",
    "print(roc_auc_score(Y_validation, pipe.predict_proba(stem(X_validation))[:,1]))"
   ]
  },
  {
   "cell_type": "markdown",
   "id": "6e757000",
   "metadata": {
    "ExecuteTime": {
     "end_time": "2022-03-29T17:18:03.680443Z",
     "start_time": "2022-03-29T17:18:03.666683Z"
    }
   },
   "source": [
    "Попробуем рассматривать в качестве признаков также наборы слов"
   ]
  },
  {
   "cell_type": "code",
   "execution_count": 95,
   "id": "e7e312ff",
   "metadata": {
    "ExecuteTime": {
     "end_time": "2022-03-29T17:26:17.950167Z",
     "start_time": "2022-03-29T17:26:15.694070Z"
    }
   },
   "outputs": [
    {
     "name": "stdout",
     "output_type": "stream",
     "text": [
      "0.8388581952117864\n"
     ]
    }
   ],
   "source": [
    "from sklearn.metrics import roc_auc_score\n",
    "\n",
    "pipe = Pipeline([('vectorizer', TfidfVectorizer(ngram_range=(1,2))), ('model', LogisticRegression(max_iter = 10000, C=best_C))])\n",
    "pipe.fit(X_train, Y_train)\n",
    "print(roc_auc_score(Y_validation, pipe.predict_proba(X_validation)[:,1]))"
   ]
  },
  {
   "cell_type": "markdown",
   "id": "a0d2539a",
   "metadata": {
    "ExecuteTime": {
     "end_time": "2022-03-29T17:19:24.816321Z",
     "start_time": "2022-03-29T17:19:24.810008Z"
    }
   },
   "source": [
    "В итоге лучшее качество на валидации дает рассматривание слов и словосочетаний исходных текстов (без \n",
    "лемматизации и удаления стоп-слов)\n",
    "Посмотрим на зависимость точности от границы разделения классов и выберем оптимальную границу"
   ]
  },
  {
   "cell_type": "code",
   "execution_count": 96,
   "id": "1ff0e1bf",
   "metadata": {
    "ExecuteTime": {
     "end_time": "2022-03-29T17:26:21.421018Z",
     "start_time": "2022-03-29T17:26:17.952011Z"
    }
   },
   "outputs": [
    {
     "data": {
      "text/plain": [
       "<AxesSubplot:>"
      ]
     },
     "execution_count": 96,
     "metadata": {},
     "output_type": "execute_result"
    },
    {
     "data": {
      "image/png": "[encoded data removed]",
      "text/plain": [
       "<Figure size 432x288 with 1 Axes>"
      ]
     },
     "metadata": {
      "needs_background": "light"
     },
     "output_type": "display_data"
    }
   ],
   "source": [
    "from sklearn.metrics import precision_recall_curve, PrecisionRecallDisplay, accuracy_score\n",
    "import seaborn as sns\n",
    "import matplotlib.pyplot as plt\n",
    "\n",
    "pipe = Pipeline([('vectorizer', TfidfVectorizer(ngram_range=(1,2))), ('model', LogisticRegression(C=best_C, max_iter = 10000))])\n",
    "pipe.fit(X_train, Y_train)\n",
    "validate_prediction = pipe.predict_proba(X_validation)\n",
    "precision, recall, thresh = precision_recall_curve(Y_validation, validate_prediction[:,1])\n",
    "acc = np.array([accuracy_score(Y_validation, np.where(validate_prediction[:,0] > tr, 0, 1)) for tr in thresh])\n",
    "best_threshold = thresh[acc.argmax()]\n",
    "sns.lineplot(x=thresh, y=acc)"
   ]
  },
  {
   "cell_type": "code",
   "execution_count": 101,
   "id": "72100b2b",
   "metadata": {
    "ExecuteTime": {
     "end_time": "2022-03-29T17:32:42.530171Z",
     "start_time": "2022-03-29T17:32:42.523562Z"
    }
   },
   "outputs": [],
   "source": [
    "pipe.best_threshold = best_threshold"
   ]
  },
  {
   "cell_type": "markdown",
   "id": "0ed344e5",
   "metadata": {},
   "source": [
    "Сохраняем модель"
   ]
  },
  {
   "cell_type": "code",
   "execution_count": 102,
   "id": "1fc064c9",
   "metadata": {
    "ExecuteTime": {
     "end_time": "2022-03-29T17:32:43.709129Z",
     "start_time": "2022-03-29T17:32:43.609315Z"
    }
   },
   "outputs": [],
   "source": [
    "from pickle import dump\n",
    "with open(\"model.pkl\", 'wb') as file:\n",
    "    dump(pipe, file)"
   ]
  }
 ],
 "metadata": {
  "kernelspec": {
   "display_name": "Python [conda env:introduction_to_da] *",
   "language": "python",
   "name": "conda-env-introduction_to_da-py"
  },
  "language_info": {
   "codemirror_mode": {
    "name": "ipython",
    "version": 3
   },
   "file_extension": ".py",
   "mimetype": "text/x-python",
   "name": "python",
   "nbconvert_exporter": "python",
   "pygments_lexer": "ipython3",
   "version": "3.9.7"
  },
  "varInspector": {
   "cols": {
    "lenName": 16,
    "lenType": 16,
    "lenVar": 40
   },
   "kernels_config": {
    "python": {
     "delete_cmd_postfix": "",
     "delete_cmd_prefix": "del ",
     "library": "var_list.py",
     "varRefreshCmd": "print(var_dic_list())"
    },
    "r": {
     "delete_cmd_postfix": ") ",
     "delete_cmd_prefix": "rm(",
     "library": "var_list.r",
     "varRefreshCmd": "cat(var_dic_list()) "
    }
   },
   "types_to_exclude": [
    "module",
    "function",
    "builtin_function_or_method",
    "instance",
    "_Feature"
   ],
   "window_display": false
  }
 },
 "nbformat": 4,
 "nbformat_minor": 5
}
